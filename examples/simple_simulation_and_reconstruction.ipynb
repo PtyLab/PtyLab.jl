{
 "cells": [
  {
   "cell_type": "code",
   "execution_count": null,
   "metadata": {
    "scrolled": true
   },
   "outputs": [],
   "source": [
    "using Pkg\n",
    "Pkg.activate(\".\")\n",
    "\n",
    "using Revise, PtyLab, TestImages, ImageShow, IndexFunArrays, FFTW, HDF5, Noise, FourierTools, CUDA\n",
    "using EllipsisNotation\n",
    "FFTW.set_num_threads(12)"
   ]
  },
  {
   "cell_type": "markdown",
   "metadata": {},
   "source": [
    "## Object"
   ]
  },
  {
   "cell_type": "code",
   "execution_count": null,
   "metadata": {
    "scrolled": true
   },
   "outputs": [],
   "source": [
    "img_abs = Float32.(testimage(\"fabio_gray_512\"))[200:400, 200:400]\n",
    "img_phase = Float32.(testimage(\"resolution_test_512\"))[200:400, 200:400]\n",
    "object = img_abs .* cispi.(2 .* img_phase)\n",
    "\n",
    "complex_show(object);"
   ]
  },
  {
   "cell_type": "markdown",
   "metadata": {},
   "source": [
    "## Random Grid"
   ]
  },
  {
   "cell_type": "code",
   "execution_count": null,
   "metadata": {
    "scrolled": false
   },
   "outputs": [],
   "source": [
    "grid_size = size(object)\n",
    "tile_size = (100, 100)\n",
    "\n",
    "grr = PtyLab.grid_regular_rand(grid_size, tile_size, (15, 15), 30);\n",
    "@show grr.overlap\n",
    "show_grid(grr, only_points=false);"
   ]
  },
  {
   "cell_type": "markdown",
   "metadata": {},
   "source": [
    "## Probe"
   ]
  },
  {
   "cell_type": "code",
   "execution_count": null,
   "metadata": {
    "scrolled": false
   },
   "outputs": [],
   "source": [
    "probe = IndexFunArrays.gaussian(Float32, tile_size, scale=0.010) .* cis.(Float32(2π) .* \n",
    "     4 .* gaussian(Float32, tile_size, scale=0.003));\n",
    "\n",
    "complex_show(probe);"
   ]
  },
  {
   "cell_type": "markdown",
   "metadata": {},
   "source": [
    "## Simulate and store as dataset"
   ]
  },
  {
   "cell_type": "code",
   "execution_count": null,
   "metadata": {},
   "outputs": [],
   "source": [
    "ptychogram = zeros(Float32, (tile_size..., length(grr.tiles)));\n",
    "p = Params()\n",
    "o2d, d2o = Fraunhofer(probe, fftshiftFlag=true);\n",
    "\n",
    "for (i, t) in enumerate(grr.tiles)\n",
    "    ptychogram[:, :, i] = poisson(abs2.(o2d(view(object, t.i₁:t.i₂,  t.j₁:t.j₂) .* probe)), 1000)\n",
    "end\n",
    "\n",
    "\n",
    "lambda = 633f-9\n",
    "z = 50f-3\n",
    "dxd = 10f-6\n",
    "Nd = size(ptychogram, 1)\n",
    "dxo = lambda * z / (Nd * dxd)\n",
    "\n",
    "fid_new = h5open(\"simulated_ptychography.hdf5\", \"w\");\n",
    "fid_new[\"Nd\"] = Nd\n",
    "fid_new[\"No\"] = size(img_abs, 1)\n",
    "fid_new[\"dxd\"] = 10f-6\n",
    "fid_new[\"encoder\"] = PtyLab.encoder(grr, dxo, offset=(50, 50))\n",
    "fid_new[\"wavelength\"] = lambda\n",
    "fid_new[\"entrancePupilDiameter\"] = dxo * 30\n",
    "fid_new[\"zo\"] = z\n",
    "fid_new[\"ptychogram\"] = ptychogram\n",
    "close(fid_new)\n",
    "#@view_image ptychogram;"
   ]
  },
  {
   "cell_type": "markdown",
   "metadata": {},
   "source": [
    "## Load dataset again"
   ]
  },
  {
   "cell_type": "code",
   "execution_count": null,
   "metadata": {
    "scrolled": false
   },
   "outputs": [],
   "source": [
    "experimentalData = ExperimentalDataCPM(\"simulated_ptychography.hdf5\");\n",
    "\n",
    "reconstruction = ReconstructionCPM(experimentalData, cuda=false);\n",
    "reconstruction = PtyLab.initializeObjectProbe!(reconstruction);\n",
    "params2 = Params(fftshiftFlag = false, transposePtychogram = false, \n",
    "                 comStabilizationSwitch = false)\n",
    "\n",
    "engine = PtyLab.ePIE(betaProbe = 0.75f0, betaObject = 0.75f0, numIterations = 50)"
   ]
  },
  {
   "cell_type": "markdown",
   "metadata": {},
   "source": [
    "### On CPU"
   ]
  },
  {
   "cell_type": "code",
   "execution_count": null,
   "metadata": {},
   "outputs": [],
   "source": [
    "reconstruction = ReconstructionCPM(experimentalData, cuda=false);\n",
    "reconstruction = PtyLab.initializeObjectProbe!(reconstruction);"
   ]
  },
  {
   "cell_type": "code",
   "execution_count": null,
   "metadata": {},
   "outputs": [],
   "source": [
    "@time p, o = PtyLab.reconstruct(engine, params2, reconstruction);"
   ]
  },
  {
   "cell_type": "code",
   "execution_count": null,
   "metadata": {
    "scrolled": false
   },
   "outputs": [],
   "source": [
    "complex_show(o[:, :, 1,1,1,1])"
   ]
  },
  {
   "cell_type": "code",
   "execution_count": null,
   "metadata": {
    "scrolled": true
   },
   "outputs": [],
   "source": [
    "complex_show(p[:, :, 1,1,1,1])"
   ]
  }
 ],
 "metadata": {
  "kernelspec": {
   "display_name": "Julia 1.7.2",
   "language": "julia",
   "name": "julia-1.7"
  },
  "language_info": {
   "file_extension": ".jl",
   "mimetype": "application/julia",
   "name": "julia",
   "version": "1.7.2"
  }
 },
 "nbformat": 4,
 "nbformat_minor": 5
}

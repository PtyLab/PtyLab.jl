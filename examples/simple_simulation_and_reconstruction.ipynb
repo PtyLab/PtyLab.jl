{
 "cells": [
  {
   "cell_type": "code",
   "execution_count": 40,
   "id": "92be9f56",
   "metadata": {
    "scrolled": true
   },
   "outputs": [
    {
     "name": "stderr",
     "output_type": "stream",
     "text": [
      "\u001b[32m\u001b[1m  Activating\u001b[22m\u001b[39m environment at `~/Documents/Uni/my_projects/Ptychography/PtyLab.jl/examples/Project.toml`\n"
     ]
    }
   ],
   "source": [
    "using Pkg\n",
    "Pkg.activate(\".\")\n",
    "using Revise, PtyLab, TestImages, ImageShow, IndexFunArrays, FFTW, Napari, HDF5, Noise, FourierTools"
   ]
  },
  {
   "cell_type": "markdown",
   "id": "975a1d4c",
   "metadata": {},
   "source": [
    "## Object"
   ]
  },
  {
   "cell_type": "code",
   "execution_count": 41,
   "id": "e6c60381",
   "metadata": {
    "scrolled": true
   },
   "outputs": [],
   "source": [
    "img_abs = Float32.(testimage(\"fabio_gray_512\"))[200:380, 200:380]\n",
    "img_phase = Float32.(testimage(\"resolution_test_512\"))[200-30:380-30, 200+30:380+30]\n",
    "object = img_abs .* cispi.(2 .* img_phase)\n",
    "\n",
    "complex_show(object);"
   ]
  },
  {
   "cell_type": "markdown",
   "id": "34726819",
   "metadata": {},
   "source": [
    "## Random Grid"
   ]
  },
  {
   "cell_type": "code",
   "execution_count": 38,
   "id": "061278f7",
   "metadata": {
    "scrolled": false
   },
   "outputs": [
    {
     "name": "stdout",
     "output_type": "stream",
     "text": [
      "grr.overlap = (0.9142857142857143, 0.9142857142857143)\n"
     ]
    }
   ],
   "source": [
    "grid_size = size(object)\n",
    "tile_size = (70, 70)\n",
    "\n",
    "grr = PtyLab.grid_regular_rand(grid_size, tile_size, (18, 18), 30);\n",
    "@show grr.overlap\n",
    "show_grid(grr, only_points=false);"
   ]
  },
  {
   "cell_type": "markdown",
   "id": "7b720987",
   "metadata": {},
   "source": [
    "## Probe"
   ]
  },
  {
   "cell_type": "code",
   "execution_count": 50,
   "id": "4c753643",
   "metadata": {
    "scrolled": false
   },
   "outputs": [],
   "source": [
    "probe = IndexFunArrays.gaussian(Float32, tile_size, scale=0.010) .* cis.(Float32(2π) .* \n",
    "     4 .* gaussian(Float32, tile_size, scale=0.003));\n",
    "\n",
    "complex_show(probe);"
   ]
  },
  {
   "cell_type": "markdown",
   "id": "d574f091",
   "metadata": {},
   "source": [
    "## Simulate and store as dataset"
   ]
  },
  {
   "cell_type": "code",
   "execution_count": 39,
   "id": "e2f3e2be",
   "metadata": {},
   "outputs": [],
   "source": [
    "ptychogram = zeros(Float32, (tile_size..., length(grr.tiles)));\n",
    "p = Params()\n",
    "o2d, d2o = Fraunhofer(probe, fftshiftFlag=true);\n",
    "\n",
    "for (i, t) in enumerate(grr.tiles)\n",
    "    ptychogram[:, :, i] = abs2.(o2d(view(object, t.i₁:t.i₂,  t.j₁:t.j₂) .* probe))#, 200000)\n",
    "end\n",
    "\n",
    "\n",
    "lambda = 633f-9\n",
    "z = 50f-3\n",
    "dxd = 10f-6\n",
    "Nd = size(ptychogram, 1)\n",
    "dxo = lambda * z / (Nd * dxd)\n",
    "\n",
    "fid_new = h5open(\"simulated_ptychography.hdf5\", \"w\");\n",
    "fid_new[\"Nd\"] = Nd\n",
    "fid_new[\"No\"] = size(img_abs, 1)\n",
    "fid_new[\"dxd\"] = 10f-6\n",
    "fid_new[\"encoder\"] = PtyLab.encoder(grr, dxo, offset=(50, 50))\n",
    "fid_new[\"wavelength\"] = lambda\n",
    "fid_new[\"entrancePupilDiameter\"] = dxo * 30\n",
    "fid_new[\"zo\"] = z\n",
    "fid_new[\"ptychogram\"] = ptychogram\n",
    "close(fid_new)\n",
    "#@view_image ptychogram;"
   ]
  },
  {
   "cell_type": "code",
   "execution_count": null,
   "id": "a22af772",
   "metadata": {},
   "outputs": [],
   "source": []
  },
  {
   "cell_type": "markdown",
   "id": "b6c58bbd",
   "metadata": {},
   "source": [
    "## Load dataset again"
   ]
  },
  {
   "cell_type": "code",
   "execution_count": 42,
   "id": "9f09fa1c",
   "metadata": {},
   "outputs": [
    {
     "name": "stderr",
     "output_type": "stream",
     "text": [
      "┌ Info: Reading HDF5.File: (read-only) simulated_ptychography.hdf5 was successful\n",
      "└ @ PtyLab /home/fxw/Documents/Uni/my_projects/Ptychography/PtyLab.jl/src/ExperimentalData.jl:55\n",
      "┌ Warning: Currently No = 4 * Np, just as guess, should be improved\n",
      "└ @ PtyLab /home/fxw/Documents/Uni/my_projects/Ptychography/PtyLab.jl/src/utils_calc.jl:91\n"
     ]
    },
    {
     "data": {
      "text/plain": [
       "Params\n",
       "  fftshiftFlag: Bool false\n",
       "  transposePtychogram: Bool true\n",
       "  intensityConstraint: PtyLab.IntensityConstraintStandard <: PtyLab.IntensityConstraint\n",
       "  propagatorType: Fraunhofer (function of type typeof(Fraunhofer))\n",
       "  randPositionOrder: Bool true\n",
       "  comStabilizationSwitch: Bool true\n"
      ]
     },
     "execution_count": 42,
     "metadata": {},
     "output_type": "execute_result"
    }
   ],
   "source": [
    "experimentalData = ExperimentalDataCPM(\"simulated_ptychography.hdf5\");\n",
    "\n",
    "reconstruction = ReconstructionCPM(experimentalData);\n",
    "reconstruction = PtyLab.initializeObjectProbe!(reconstruction);\n",
    "\n",
    "engine = PtyLab.ePIE()\n",
    "params2 = Params()"
   ]
  },
  {
   "cell_type": "code",
   "execution_count": 49,
   "id": "1730d2b7",
   "metadata": {},
   "outputs": [
    {
     "name": "stderr",
     "output_type": "stream",
     "text": [
      "┌ Warning: gimmel is currently estimated as `100 * eps(Float32)`\n",
      "└ @ PtyLab /home/fxw/Documents/Uni/my_projects/Ptychography/PtyLab.jl/src/Engines.jl:54\n",
      "\u001b[32mProgress: 100%|█████████████████████████████████████████| Time: 0:00:04\u001b[39m\n"
     ]
    },
    {
     "name": "stdout",
     "output_type": "stream",
     "text": [
      "  4.542010 seconds (2.10 M allocations: 7.809 GiB, 5.00% gc time)\n"
     ]
    }
   ],
   "source": [
    "#engines.\n",
    "params2.fftshiftFlag = false\n",
    "engine.betaProbe = 0.75f0\n",
    "engine.betaObject = 0.75f0\n",
    "\n",
    "params2.transposePtychogram = false\n",
    "params2.comStabilizationSwitch = true\n",
    "reconstruction = PtyLab.initializeObjectProbe!(reconstruction);\n",
    "engine.numIterations = 50\n",
    "\n",
    "@time p, o = PtyLab.reconstruct(engine, params2, reconstruction);"
   ]
  },
  {
   "cell_type": "code",
   "execution_count": 48,
   "id": "32990a09",
   "metadata": {},
   "outputs": [],
   "source": [
    "complex_show(o[:, :, 1,1,1,1]);"
   ]
  },
  {
   "cell_type": "code",
   "execution_count": 47,
   "id": "211ae716",
   "metadata": {},
   "outputs": [],
   "source": [
    "complex_show(p[:, :, 1,1,1,1]);"
   ]
  },
  {
   "cell_type": "code",
   "execution_count": null,
   "id": "f99aff82",
   "metadata": {},
   "outputs": [],
   "source": []
  },
  {
   "cell_type": "code",
   "execution_count": null,
   "id": "81f13f41",
   "metadata": {},
   "outputs": [],
   "source": []
  }
 ],
 "metadata": {
  "kernelspec": {
   "display_name": "Julia 1.6.3",
   "language": "julia",
   "name": "julia-1.6"
  },
  "language_info": {
   "file_extension": ".jl",
   "mimetype": "application/julia",
   "name": "julia",
   "version": "1.6.3"
  }
 },
 "nbformat": 4,
 "nbformat_minor": 5
}

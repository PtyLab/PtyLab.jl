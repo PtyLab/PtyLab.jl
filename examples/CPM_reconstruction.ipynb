{
 "cells": [
  {
   "cell_type": "code",
   "execution_count": 26,
   "id": "4b2823a9",
   "metadata": {
    "scrolled": true
   },
   "outputs": [],
   "source": [
    "using Revise, PtyLab, Parameters, Napari, EllipsisNotation"
   ]
  },
  {
   "cell_type": "code",
   "execution_count": 87,
   "id": "905bad91",
   "metadata": {
    "scrolled": true
   },
   "outputs": [
    {
     "name": "stderr",
     "output_type": "stream",
     "text": [
      "┌ Info: Reading HDF5.File: (read-only) ../../fracpy/example_data/simu.hdf5 was successful\n",
      "└ @ PtyLab /home/fxw/Documents/Uni/my_projects/Ptychography/PtyLab.jl/src/ExperimentalData.jl:61\n"
     ]
    }
   ],
   "source": [
    "experimentalData = ExperimentalDataCPM(\"../../fracpy/example_data/simu.hdf5\");"
   ]
  },
  {
   "cell_type": "code",
   "execution_count": 91,
   "id": "80ee3c1f",
   "metadata": {
    "scrolled": true
   },
   "outputs": [
    {
     "data": {
      "text/plain": [
       "PyObject Viewer(axes=Axes(visible=False, labels=True, colored=True, dashed=False, arrows=True), camera=Camera(center=(0.0, 63.5, 63.5), zoom=9.41771653543307, angles=(0.0, 0.0, 90.0), perspective=0.0, interactive=True), cursor=Cursor(position=(57.39448326675573, 24.955626179217575), scaled=True, size=1, style=<CursorStyle.STANDARD: 'standard'>), dims=Dims(ndim=2, ndisplay=2, last_used=1, range=((0.0, 127.0, 1.0), (0.0, 127.0, 1.0)), current_step=(0, 0), order=(0, 1), axis_labels=('0', '1')), grid=GridCanvas(stride=1, shape=(-1, -1), enabled=False), layers=[<Image layer 'reconstruction.ptychogram[:, :, 30]' at 0x7fb31939ffa0>], scale_bar=ScaleBar(visible=False, colored=False, ticks=True, position=<Position.BOTTOM_RIGHT: 'bottom_right'>, font_size=10.0, unit=None), text_overlay=TextOverlay(visible=False, color=array([0.5, 0.5, 0.5, 1. ]), font_size=10.0, position=<TextOverlayPosition.TOP_LEFT: 'top_left'>, text=''), help='', status='reconstruction.ptychogram[:, :, 30] [57 25]: 0.00027', tooltip=Tooltip(visible=False, text=''), theme='dark', title='napari', mouse_move_callbacks=[], mouse_drag_callbacks=[], mouse_double_click_callbacks=[], mouse_wheel_callbacks=[<function dims_scroll at 0x7fb369b7d550>], _persisted_mouse_event={}, _mouse_drag_gen={}, _mouse_wheel_gen={}, keymap={'Control-Shift-C': <bound method QtViewer.toggle_console_visibility of <napari._qt.qt_viewer.QtViewer object at 0x7fb31817daf0>>})"
      ]
     },
     "execution_count": 91,
     "metadata": {},
     "output_type": "execute_result"
    }
   ],
   "source": [
    "@view_image reconstruction.ptychogram[:,:, 30]"
   ]
  },
  {
   "cell_type": "code",
   "execution_count": 48,
   "id": "997612d2",
   "metadata": {
    "scrolled": true
   },
   "outputs": [],
   "source": [
    "reconstruction = ReconstructionCPM(experimentalData);"
   ]
  },
  {
   "cell_type": "code",
   "execution_count": 49,
   "id": "efc3aa27",
   "metadata": {
    "scrolled": true
   },
   "outputs": [],
   "source": [
    "reconstruction = PtyLab.initializeObjectProbe!(reconstruction);"
   ]
  },
  {
   "cell_type": "code",
   "execution_count": 50,
   "id": "69dc0117",
   "metadata": {
    "scrolled": true
   },
   "outputs": [
    {
     "data": {
      "text/plain": [
       "PyObject Viewer(axes=Axes(visible=False, labels=True, colored=True, dashed=False, arrows=True), camera=Camera(center=(0.0, 63.5, 63.5), zoom=9.41771653543307, angles=(0.0, 0.0, 90.0), perspective=0.0, interactive=True), cursor=Cursor(position=(74.59610466307896, 24.84944333234229), scaled=True, size=1, style=<CursorStyle.STANDARD: 'standard'>), dims=Dims(ndim=2, ndisplay=2, last_used=1, range=((0.0, 127.0, 1.0), (0.0, 127.0, 1.0)), current_step=(0, 0), order=(0, 1), axis_labels=('0', '1')), grid=GridCanvas(stride=1, shape=(-1, -1), enabled=False), layers=[<Image layer 'real(reconstruction.probe[:, :, 1, 1, 1, 1])' at 0x7fb332f80f70>], scale_bar=ScaleBar(visible=False, colored=False, ticks=True, position=<Position.BOTTOM_RIGHT: 'bottom_right'>, font_size=10.0, unit=None), text_overlay=TextOverlay(visible=False, color=array([0.5, 0.5, 0.5, 1. ]), font_size=10.0, position=<TextOverlayPosition.TOP_LEFT: 'top_left'>, text=''), help='', status='real(reconstruction.probe[:, :, 1, 1, 1, 1]) [75 25]: 0', tooltip=Tooltip(visible=False, text=''), theme='dark', title='napari', mouse_move_callbacks=[], mouse_drag_callbacks=[], mouse_double_click_callbacks=[], mouse_wheel_callbacks=[<function dims_scroll at 0x7fb369b7d550>], _persisted_mouse_event={}, _mouse_drag_gen={}, _mouse_wheel_gen={}, keymap={'Control-Shift-C': <bound method QtViewer.toggle_console_visibility of <napari._qt.qt_viewer.QtViewer object at 0x7fb3329d1a60>>})"
      ]
     },
     "execution_count": 50,
     "metadata": {},
     "output_type": "execute_result"
    }
   ],
   "source": [
    "@view_image real(reconstruction.[:, :, 1,1,1,1])"
   ]
  },
  {
   "cell_type": "code",
   "execution_count": 8,
   "id": "11beecd7",
   "metadata": {
    "scrolled": false
   },
   "outputs": [
    {
     "data": {
      "text/plain": [
       "ePIE{Float32}\n",
       "  betaProbe: Float32 0.25f0\n",
       "  betaObject: Float32 0.25f0\n",
       "  numIterations: Int64 50\n"
      ]
     },
     "execution_count": 8,
     "metadata": {},
     "output_type": "execute_result"
    }
   ],
   "source": [
    "engine = PtyLab.ePIE()"
   ]
  },
  {
   "cell_type": "code",
   "execution_count": 9,
   "id": "9d31a5c7",
   "metadata": {
    "scrolled": false
   },
   "outputs": [
    {
     "data": {
      "text/plain": [
       "Params\n",
       "  fftshiftSwitch: Bool false\n",
       "  fftshiftFlag: Bool false\n",
       "  FourierMaskSwitch: Bool false\n",
       "  CPSCswitch: Bool false\n",
       "  CPSCupsamplingFactor: Bool false\n",
       "  intensityConstraint: PtyLab.IntensityConstraintStandard <: PtyLab.IntensityConstraint\n",
       "  propagatorType: Fraunhofer (function of type typeof(Fraunhofer))\n",
       "  momentumAcceleration: Bool false\n",
       "  adaptiveMomentumAcceleration: Bool false\n",
       "  positionOrder: PtyLab.GridRegularRand <: PtyLab.PositionOrder\n"
      ]
     },
     "execution_count": 9,
     "metadata": {},
     "output_type": "execute_result"
    }
   ],
   "source": [
    "params = Params()"
   ]
  },
  {
   "cell_type": "code",
   "execution_count": 10,
   "id": "c921c136",
   "metadata": {},
   "outputs": [
    {
     "data": {
      "text/plain": [
       "(2, 100)"
      ]
     },
     "execution_count": 10,
     "metadata": {},
     "output_type": "execute_result"
    }
   ],
   "source": [
    "size(reconstruction.positions)"
   ]
  },
  {
   "cell_type": "code",
   "execution_count": null,
   "id": "a83dcd3b",
   "metadata": {},
   "outputs": [],
   "source": []
  },
  {
   "cell_type": "code",
   "execution_count": 56,
   "id": "125eeb90",
   "metadata": {},
   "outputs": [],
   "source": [
    "reconstruction = PtyLab.initializeObjectProbe!(reconstruction);\n"
   ]
  },
  {
   "cell_type": "code",
   "execution_count": 57,
   "id": "581fdcd8",
   "metadata": {},
   "outputs": [
    {
     "data": {
      "text/plain": [
       "PyObject Viewer(axes=Axes(visible=False, labels=True, colored=True, dashed=False, arrows=True), camera=Camera(center=(0.0, 63.5, 63.5), zoom=9.41771653543307, angles=(0.0, 0.0, 90.0), perspective=0.0, interactive=True), cursor=Cursor(position=(63.65927143492501, 35.89245940737152), scaled=True, size=1, style=<CursorStyle.STANDARD: 'standard'>), dims=Dims(ndim=2, ndisplay=2, last_used=1, range=((0.0, 127.0, 1.0), (0.0, 127.0, 1.0)), current_step=(0, 0), order=(0, 1), axis_labels=('0', '1')), grid=GridCanvas(stride=1, shape=(-1, -1), enabled=False), layers=[<Image layer 'abs.(reconstruction.probe[:, :, 1, 1, 1, 1])' at 0x7fb32174e400>], scale_bar=ScaleBar(visible=False, colored=False, ticks=True, position=<Position.BOTTOM_RIGHT: 'bottom_right'>, font_size=10.0, unit=None), text_overlay=TextOverlay(visible=False, color=array([0.5, 0.5, 0.5, 1. ]), font_size=10.0, position=<TextOverlayPosition.TOP_LEFT: 'top_left'>, text=''), help='', status='abs.(reconstruction.probe[:, :, 1, 1, 1, 1]) [64 36]: 0', tooltip=Tooltip(visible=False, text=''), theme='dark', title='napari', mouse_move_callbacks=[], mouse_drag_callbacks=[], mouse_double_click_callbacks=[], mouse_wheel_callbacks=[<function dims_scroll at 0x7fb369b7d550>], _persisted_mouse_event={}, _mouse_drag_gen={}, _mouse_wheel_gen={}, keymap={'Control-Shift-C': <bound method QtViewer.toggle_console_visibility of <napari._qt.qt_viewer.QtViewer object at 0x7fb3224ed4c0>>})"
      ]
     },
     "execution_count": 57,
     "metadata": {},
     "output_type": "execute_result"
    }
   ],
   "source": [
    "@view_image abs.(reconstruction.probe[:, :, 1,1,1,1])"
   ]
  },
  {
   "cell_type": "code",
   "execution_count": 117,
   "id": "862174dc",
   "metadata": {
    "scrolled": true
   },
   "outputs": [
    {
     "name": "stderr",
     "output_type": "stream",
     "text": [
      "┌ Warning: gimmel is currently estimated as `100 * eps(Float32)`\n",
      "└ @ PtyLab /home/fxw/Documents/Uni/my_projects/Ptychography/PtyLab.jl/src/Engines.jl:20\n",
      "\u001b[32mProgress: 100%|█████████████████████████████████████████| Time: 0:00:05\u001b[39m\n"
     ]
    },
    {
     "name": "stdout",
     "output_type": "stream",
     "text": [
      "  5.130319 seconds (4.17 M allocations: 12.420 GiB, 5.67% gc time, 0.97% compilation time)\n"
     ]
    },
    {
     "data": {
      "text/plain": [
       "(ComplexF32[-0.0007289669f0 + 0.0032441262f0im -7.281415f-5 + 0.0017196524f0im … -0.00016092721f0 + 0.0020594585f0im -0.00043962637f0 + 0.0020783702f0im; -5.7400892f-5 + 0.0021433153f0im 0.00022988998f0 + 0.00080496166f0im … 0.00014067584f0 + 0.001500633f0im -1.878537f-5 + 0.0015174764f0im; … ; -0.00049628416f0 + 0.0022075372f0im -0.00020872705f0 + 0.0013074687f0im … 0.0002592921f0 + 0.001369302f0im -2.3426823f-5 + 0.0016915721f0im; -0.00075067114f0 + 0.0025887724f0im -0.0003327822f0 + 0.0013522713f0im … -6.640599f-5 + 0.0020138535f0im -0.00029834735f0 + 0.0022853785f0im], ComplexF32[1.0f0 + 0.0f0im 1.0f0 + 0.0f0im … 1.0f0 + 0.0f0im 1.0f0 + 0.0f0im; 1.0f0 + 0.0f0im 1.0f0 + 0.0f0im … 1.0f0 + 0.0f0im 1.0f0 + 0.0f0im; … ; 1.0f0 + 0.0f0im 1.0f0 + 0.0f0im … 1.0f0 + 0.0f0im 1.0f0 + 0.0f0im; 1.0f0 + 0.0f0im 1.0f0 + 0.0f0im … 1.0f0 + 0.0f0im 1.0f0 + 0.0f0im])"
      ]
     },
     "execution_count": 117,
     "metadata": {},
     "output_type": "execute_result"
    }
   ],
   "source": [
    "#engines.\n",
    "reconstruction = PtyLab.initializeObjectProbe!(reconstruction);\n",
    "engine.numIterations = 50\n",
    "@time p, o = PtyLab.reconstruct(engine, params, reconstruction)"
   ]
  },
  {
   "cell_type": "code",
   "execution_count": 122,
   "id": "d8bef7d3",
   "metadata": {
    "scrolled": true
   },
   "outputs": [],
   "source": [
    "@view_image map(x -> isnan(x) ? -one(x) : x, real.(o[:, :, 1, 1, 1, 1]));"
   ]
  },
  {
   "cell_type": "code",
   "execution_count": 123,
   "id": "c519ce55",
   "metadata": {
    "scrolled": true
   },
   "outputs": [],
   "source": [
    "@view_image map(x -> isnan(x) ? -1 : x, angle.(p[:, :, 1, 1, 1, 1]));"
   ]
  },
  {
   "cell_type": "code",
   "execution_count": 14,
   "id": "d60f8367",
   "metadata": {},
   "outputs": [
    {
     "data": {
      "text/plain": [
       "-0.15794705f0"
      ]
     },
     "execution_count": 14,
     "metadata": {},
     "output_type": "execute_result"
    }
   ],
   "source": [
    "minimum(real.(p))"
   ]
  },
  {
   "cell_type": "code",
   "execution_count": 15,
   "id": "6f56f4a2",
   "metadata": {},
   "outputs": [
    {
     "ename": "LoadError",
     "evalue": "UndefVarError: a not defined",
     "output_type": "error",
     "traceback": [
      "UndefVarError: a not defined",
      "",
      "Stacktrace:",
      " [1] top-level scope",
      "   @ :0",
      " [2] eval",
      "   @ ./boot.jl:360 [inlined]",
      " [3] include_string(mapexpr::typeof(REPL.softscope), mod::Module, code::String, filename::String)",
      "   @ Base ./loading.jl:1116"
     ]
    }
   ],
   "source": [
    "a"
   ]
  },
  {
   "cell_type": "code",
   "execution_count": 16,
   "id": "16621f5f",
   "metadata": {},
   "outputs": [
    {
     "ename": "LoadError",
     "evalue": "UndefVarError: b not defined",
     "output_type": "error",
     "traceback": [
      "UndefVarError: b not defined",
      "",
      "Stacktrace:",
      " [1] top-level scope",
      "   @ :0",
      " [2] eval",
      "   @ ./boot.jl:360 [inlined]",
      " [3] include_string(mapexpr::typeof(REPL.softscope), mod::Module, code::String, filename::String)",
      "   @ Base ./loading.jl:1116"
     ]
    }
   ],
   "source": [
    "b"
   ]
  }
 ],
 "metadata": {
  "kernelspec": {
   "display_name": "Julia 1.6.3",
   "language": "julia",
   "name": "julia-1.6"
  },
  "language_info": {
   "file_extension": ".jl",
   "mimetype": "application/julia",
   "name": "julia",
   "version": "1.6.3"
  }
 },
 "nbformat": 4,
 "nbformat_minor": 5
}

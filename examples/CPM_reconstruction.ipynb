{
 "cells": [
  {
   "cell_type": "code",
   "execution_count": 12,
   "id": "4b2823a9",
   "metadata": {
    "scrolled": false
   },
   "outputs": [
    {
     "name": "stderr",
     "output_type": "stream",
     "text": [
      "\u001b[32m\u001b[1m  No Changes\u001b[22m\u001b[39m to `~/Documents/Uni/my_projects/Ptychography/PtyLab.jl/examples/Project.toml`\n",
      "\u001b[32m\u001b[1m  No Changes\u001b[22m\u001b[39m to `~/Documents/Uni/my_projects/Ptychography/PtyLab.jl/examples/Manifest.toml`\n"
     ]
    }
   ],
   "source": [
    "using Pkg\n",
    "Pkg.resolve()\n",
    "\n",
    "using Revise, PtyLab, Parameters, Napari, EllipsisNotation, Colors, ImageShow, ImageCore, FFTW, BenchmarkTools\n",
    "FFTW.set_num_threads(2)"
   ]
  },
  {
   "cell_type": "code",
   "execution_count": 13,
   "id": "905bad91",
   "metadata": {
    "scrolled": true
   },
   "outputs": [
    {
     "name": "stderr",
     "output_type": "stream",
     "text": [
      "┌ Info: Reading HDF5.File: (read-only) ../../fracpy/example_data/simu.hdf5 was successful\n",
      "└ @ PtyLab /home/fxw/Documents/Uni/my_projects/Ptychography/PtyLab.jl/src/ExperimentalData.jl:55\n"
     ]
    }
   ],
   "source": [
    "experimentalData = ExperimentalDataCPM(\"../../fracpy/example_data/simu.hdf5\");"
   ]
  },
  {
   "cell_type": "code",
   "execution_count": 14,
   "id": "997612d2",
   "metadata": {
    "scrolled": true
   },
   "outputs": [
    {
     "name": "stderr",
     "output_type": "stream",
     "text": [
      "┌ Warning: Currently No = 4 * Np, just as guess, should be improved\n",
      "└ @ PtyLab /home/fxw/Documents/Uni/my_projects/Ptychography/PtyLab.jl/src/utils_calc.jl:91\n"
     ]
    }
   ],
   "source": [
    "reconstruction = ReconstructionCPM(experimentalData);"
   ]
  },
  {
   "cell_type": "code",
   "execution_count": 15,
   "id": "efc3aa27",
   "metadata": {
    "scrolled": true
   },
   "outputs": [],
   "source": [
    "reconstruction = PtyLab.initializeObjectProbe!(reconstruction);"
   ]
  },
  {
   "cell_type": "code",
   "execution_count": 16,
   "id": "11beecd7",
   "metadata": {
    "scrolled": false
   },
   "outputs": [
    {
     "data": {
      "text/plain": [
       "ePIE{Float32}\n",
       "  betaProbe: Float32 0.25f0\n",
       "  betaObject: Float32 0.25f0\n",
       "  numIterations: Int64 50\n"
      ]
     },
     "execution_count": 16,
     "metadata": {},
     "output_type": "execute_result"
    }
   ],
   "source": [
    "engine = PtyLab.ePIE()"
   ]
  },
  {
   "cell_type": "code",
   "execution_count": 17,
   "id": "9d31a5c7",
   "metadata": {
    "scrolled": true
   },
   "outputs": [
    {
     "data": {
      "text/plain": [
       "Params\n",
       "  fftshiftSwitch: Bool false\n",
       "  fftshiftFlag: Bool false\n",
       "  FourierMaskSwitch: Bool false\n",
       "  CPSCswitch: Bool false\n",
       "  CPSCupsamplingFactor: Bool false\n",
       "  intensityConstraint: PtyLab.IntensityConstraintStandard PtyLab.IntensityConstraintStandard()\n",
       "  propagatorType: Fraunhofer (function of type typeof(Fraunhofer))\n",
       "  momentumAcceleration: Bool false\n",
       "  adaptiveMomentumAcceleration: Bool false\n",
       "  positionOrder: PtyLab.GridRegularRand <: PtyLab.PositionOrder\n"
      ]
     },
     "execution_count": 17,
     "metadata": {},
     "output_type": "execute_result"
    }
   ],
   "source": [
    "params2 = Params()"
   ]
  },
  {
   "cell_type": "code",
   "execution_count": 18,
   "id": "1e23250b",
   "metadata": {},
   "outputs": [],
   "source": [
    "reconstruction = PtyLab.initializeObjectProbe!(reconstruction);"
   ]
  },
  {
   "cell_type": "code",
   "execution_count": 19,
   "id": "7df2fdd2",
   "metadata": {
    "scrolled": true
   },
   "outputs": [
    {
     "name": "stderr",
     "output_type": "stream",
     "text": [
      "┌ Warning: gimmel is currently estimated as `100 * eps(Float32)`\n",
      "└ @ PtyLab /home/fxw/Documents/Uni/my_projects/Ptychography/PtyLab.jl/src/Engines.jl:35\n",
      "\u001b[32mProgress: 100%|█████████████████████████████████████████| Time: 0:00:19\u001b[39m\n"
     ]
    },
    {
     "name": "stdout",
     "output_type": "stream",
     "text": [
      " 30.157033 seconds (38.18 M allocations: 6.244 GiB, 2.94% gc time)\n"
     ]
    }
   ],
   "source": [
    "#engines.\n",
    "params2.fftshiftFlag = true\n",
    "reconstruction = PtyLab.initializeObjectProbe!(reconstruction);\n",
    "engine.numIterations = 20\n",
    "@time p, o = PtyLab.reconstruct(engine, params2, reconstruction);\n",
    "\n",
    "complex_show(p[:, :, 1,1,1,1]);"
   ]
  },
  {
   "cell_type": "code",
   "execution_count": 41,
   "id": "05333868",
   "metadata": {
    "scrolled": false
   },
   "outputs": [
    {
     "name": "stderr",
     "output_type": "stream",
     "text": [
      "┌ Warning: gimmel is currently estimated as `100 * eps(Float32)`\n",
      "└ @ PtyLab /home/fxw/Documents/Uni/my_projects/Ptychography/PtyLab.jl/src/Engines.jl:35\n",
      "\u001b[32mProgress: 100%|█████████████████████████████████████████| Time: 0:00:08\u001b[39m\n"
     ]
    },
    {
     "name": "stdout",
     "output_type": "stream",
     "text": [
      "  8.526509 seconds (1.22 M allocations: 15.935 GiB, 3.68% gc time)\n"
     ]
    }
   ],
   "source": [
    "#engines.\n",
    "params2.fftshiftFlag = false\n",
    "reconstruction = PtyLab.initializeObjectProbe!(reconstruction);\n",
    "engine.numIterations = 100\n",
    "@time p, o = PtyLab.reconstruct(engine, params2, reconstruction);\n",
    "\n",
    "complex_show(p[:, :, 1,1,1,1]);"
   ]
  },
  {
   "cell_type": "code",
   "execution_count": 40,
   "id": "b5352f9e",
   "metadata": {},
   "outputs": [],
   "source": [
    "complex_show(o[:, :, 1,1,1,1]);"
   ]
  },
  {
   "cell_type": "code",
   "execution_count": 21,
   "id": "5bb13ef6",
   "metadata": {
    "scrolled": true
   },
   "outputs": [
    {
     "name": "stderr",
     "output_type": "stream",
     "text": [
      "┌ Warning: gimmel is currently estimated as `100 * eps(Float32)`\n",
      "└ @ PtyLab /home/fxw/Documents/Uni/my_projects/Ptychography/PtyLab.jl/src/Engines.jl:35\n",
      "\u001b[32mProgress: 100%|█████████████████████████████████████████| Time: 0:00:27\u001b[39m\n"
     ]
    },
    {
     "name": "stdout",
     "output_type": "stream",
     "text": [
      " 27.351573 seconds (12.24 M allocations: 55.567 GiB, 5.97% gc time)\n"
     ]
    }
   ],
   "source": [
    "#engines.\n",
    "params2.fftshiftFlag = false\n",
    "reconstruction = PtyLab.initializeObjectProbe!(reconstruction);\n",
    "engine.numIterations = 300\n",
    "@time p, o = PtyLab.reconstruct(engine, params2, reconstruction);\n",
    "\n",
    "complex_show(p[:, :, 1,1,1,1]);"
   ]
  }
 ],
 "metadata": {
  "kernelspec": {
   "display_name": "Julia 1.6.3",
   "language": "julia",
   "name": "julia-1.6"
  },
  "language_info": {
   "file_extension": ".jl",
   "mimetype": "application/julia",
   "name": "julia",
   "version": "1.6.3"
  }
 },
 "nbformat": 4,
 "nbformat_minor": 5
}

{
 "cells": [
  {
   "cell_type": "code",
   "execution_count": 442,
   "id": "4b2823a9",
   "metadata": {
    "scrolled": false
   },
   "outputs": [],
   "source": [
    "using Revise, PtyLab, Parameters, Napari, EllipsisNotation, Colors, ImageShow, ImageCore, FFTW, BenchmarkTools\n",
    "\n",
    "FFTW.set_num_threads(2)"
   ]
  },
  {
   "cell_type": "code",
   "execution_count": 2,
   "id": "905bad91",
   "metadata": {
    "scrolled": true
   },
   "outputs": [
    {
     "name": "stderr",
     "output_type": "stream",
     "text": [
      "┌ Info: Reading HDF5.File: (read-only) ../../fracpy/example_data/simu.hdf5 was successful\n",
      "└ @ PtyLab /home/fxw/Documents/Uni/my_projects/Ptychography/PtyLab.jl/src/ExperimentalData.jl:55\n"
     ]
    }
   ],
   "source": [
    "experimentalData = ExperimentalDataCPM(\"../../fracpy/example_data/simu.hdf5\");"
   ]
  },
  {
   "cell_type": "code",
   "execution_count": 3,
   "id": "997612d2",
   "metadata": {
    "scrolled": true
   },
   "outputs": [
    {
     "name": "stderr",
     "output_type": "stream",
     "text": [
      "┌ Warning: Currently No = 4 * Np, just as guess, should be improved\n",
      "└ @ PtyLab /home/fxw/Documents/Uni/my_projects/Ptychography/PtyLab.jl/src/utils_calc.jl:91\n"
     ]
    }
   ],
   "source": [
    "reconstruction = ReconstructionCPM(experimentalData);"
   ]
  },
  {
   "cell_type": "code",
   "execution_count": 4,
   "id": "efc3aa27",
   "metadata": {
    "scrolled": true
   },
   "outputs": [],
   "source": [
    "reconstruction = PtyLab.initializeObjectProbe!(reconstruction);"
   ]
  },
  {
   "cell_type": "code",
   "execution_count": 9,
   "id": "11beecd7",
   "metadata": {
    "scrolled": false
   },
   "outputs": [
    {
     "data": {
      "text/plain": [
       "ePIE{Float32}\n",
       "  betaProbe: Float32 0.25f0\n",
       "  betaObject: Float32 0.25f0\n",
       "  numIterations: Int64 50\n"
      ]
     },
     "execution_count": 9,
     "metadata": {},
     "output_type": "execute_result"
    }
   ],
   "source": [
    "engine = PtyLab.ePIE()"
   ]
  },
  {
   "cell_type": "code",
   "execution_count": 7,
   "id": "9d31a5c7",
   "metadata": {
    "scrolled": true
   },
   "outputs": [
    {
     "data": {
      "text/plain": [
       "Params\n",
       "  fftshiftSwitch: Bool false\n",
       "  fftshiftFlag: Bool false\n",
       "  FourierMaskSwitch: Bool false\n",
       "  CPSCswitch: Bool false\n",
       "  CPSCupsamplingFactor: Bool false\n",
       "  intensityConstraint: PtyLab.IntensityConstraintStandard PtyLab.IntensityConstraintStandard()\n",
       "  propagatorType: Fraunhofer (function of type typeof(Fraunhofer))\n",
       "  momentumAcceleration: Bool false\n",
       "  adaptiveMomentumAcceleration: Bool false\n",
       "  positionOrder: PtyLab.GridRegularRand <: PtyLab.PositionOrder\n"
      ]
     },
     "execution_count": 7,
     "metadata": {},
     "output_type": "execute_result"
    }
   ],
   "source": [
    "params2 = Params()"
   ]
  },
  {
   "cell_type": "code",
   "execution_count": 55,
   "id": "1e23250b",
   "metadata": {},
   "outputs": [],
   "source": [
    "reconstruction = PtyLab.initializeObjectProbe!(reconstruction);"
   ]
  },
  {
   "cell_type": "code",
   "execution_count": 443,
   "id": "7df2fdd2",
   "metadata": {
    "scrolled": true
   },
   "outputs": [
    {
     "name": "stderr",
     "output_type": "stream",
     "text": [
      "┌ Warning: gimmel is currently estimated as `100 * eps(Float32)`\n",
      "└ @ PtyLab /home/fxw/Documents/Uni/my_projects/Ptychography/PtyLab.jl/src/Engines.jl:35\n",
      "\u001b[32mProgress: 100%|█████████████████████████████████████████| Time: 0:00:01\u001b[39m\n"
     ]
    },
    {
     "name": "stdout",
     "output_type": "stream",
     "text": [
      "  1.873153 seconds (1.25 M allocations: 4.212 GiB, 3.45% gc time)\n"
     ]
    }
   ],
   "source": [
    "#engines.\n",
    "params2.fftshiftFlag = true\n",
    "reconstruction = PtyLab.initializeObjectProbe!(reconstruction);\n",
    "engine.numIterations = 20\n",
    "@time p, o = PtyLab.reconstruct(engine, params2, reconstruction);\n",
    "\n",
    "complex_show(p[:, :, 1,1,1,1]);"
   ]
  },
  {
   "cell_type": "code",
   "execution_count": 444,
   "id": "64311f0b",
   "metadata": {},
   "outputs": [
    {
     "name": "stderr",
     "output_type": "stream",
     "text": [
      "┌ Warning: gimmel is currently estimated as `100 * eps(Float32)`\n",
      "└ @ PtyLab /home/fxw/Documents/Uni/my_projects/Ptychography/PtyLab.jl/src/Engines.jl:35\n",
      "\u001b[32mProgress: 100%|█████████████████████████████████████████| Time: 0:00:24\u001b[39m\n"
     ]
    },
    {
     "name": "stdout",
     "output_type": "stream",
     "text": [
      " 24.059879 seconds (12.21 M allocations: 55.565 GiB, 3.33% gc time)\n"
     ]
    }
   ],
   "source": [
    "#engines.\n",
    "params2.fftshiftFlag = false\n",
    "reconstruction = PtyLab.initializeObjectProbe!(reconstruction);\n",
    "engine.numIterations = 300\n",
    "@time p, o = PtyLab.reconstruct(engine, params2, reconstruction);\n",
    "\n",
    "complex_show(p[:, :, 1,1,1,1]);"
   ]
  },
  {
   "cell_type": "code",
   "execution_count": 445,
   "id": "bc3d687c",
   "metadata": {
    "scrolled": true
   },
   "outputs": [
    {
     "name": "stderr",
     "output_type": "stream",
     "text": [
      "┌ Warning: gimmel is currently estimated as `100 * eps(Float32)`\n",
      "└ @ PtyLab /home/fxw/Documents/Uni/my_projects/Ptychography/PtyLab.jl/src/Engines.jl:35\n",
      "\u001b[32mProgress: 100%|█████████████████████████████████████████| Time: 0:00:23\u001b[39m\n"
     ]
    },
    {
     "name": "stdout",
     "output_type": "stream",
     "text": [
      " 23.936878 seconds (12.21 M allocations: 55.565 GiB, 3.18% gc time)\n"
     ]
    }
   ],
   "source": [
    "#engines.\n",
    "params2.fftshiftFlag = false\n",
    "reconstruction = PtyLab.initializeObjectProbe!(reconstruction);\n",
    "engine.numIterations = 300\n",
    "@time p, o = PtyLab.reconstruct(engine, params2, reconstruction);\n",
    "\n",
    "complex_show(p[:, :, 1,1,1,1]);"
   ]
  },
  {
   "cell_type": "code",
   "execution_count": null,
   "id": "0d32216e",
   "metadata": {},
   "outputs": [],
   "source": []
  }
 ],
 "metadata": {
  "kernelspec": {
   "display_name": "Julia 1.6.3",
   "language": "julia",
   "name": "julia-1.6"
  },
  "language_info": {
   "file_extension": ".jl",
   "mimetype": "application/julia",
   "name": "julia",
   "version": "1.6.3"
  }
 },
 "nbformat": 4,
 "nbformat_minor": 5
}

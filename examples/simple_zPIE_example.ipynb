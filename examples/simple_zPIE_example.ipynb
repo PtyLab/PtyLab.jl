{
 "cells": [
  {
   "cell_type": "code",
   "execution_count": 1,
   "metadata": {
    "scrolled": true
   },
   "outputs": [
    {
     "name": "stderr",
     "output_type": "stream",
     "text": [
      "\u001b[32m\u001b[1m  Activating\u001b[22m\u001b[39m environment at `~/PtyLab.jl/examples/Project.toml`\n",
      "┌ Info: Precompiling PtyLab [81acdcc5-82ff-4242-81ec-b83d268fd5e7]\n",
      "└ @ Base loading.jl:1342\n"
     ]
    }
   ],
   "source": [
    "using Pkg\n",
    "Pkg.activate(\".\")\n",
    "\n",
    "using Revise, PtyLab, TestImages, ImageShow, IndexFunArrays, FFTW, HDF5, Noise, FourierTools, CUDA\n",
    "using EllipsisNotation\n",
    "FFTW.set_num_threads(12)"
   ]
  },
  {
   "cell_type": "markdown",
   "metadata": {},
   "source": [
    "## Object"
   ]
  },
  {
   "cell_type": "code",
   "execution_count": 2,
   "metadata": {
    "scrolled": true
   },
   "outputs": [],
   "source": [
    "img_abs = Float32.(testimage(\"fabio_gray_512\"))[200:400, 200:400]\n",
    "img_phase = Float32.(testimage(\"resolution_test_512\"))[200:400, 200:400]\n",
    "object = img_abs .* cispi.(2 .* img_phase)\n",
    "\n",
    "complex_show(object);"
   ]
  },
  {
   "cell_type": "markdown",
   "metadata": {},
   "source": [
    "## Random Grid"
   ]
  },
  {
   "cell_type": "code",
   "execution_count": 3,
   "metadata": {
    "scrolled": false
   },
   "outputs": [
    {
     "name": "stdout",
     "output_type": "stream",
     "text": [
      "grr.overlap = (0.9299999999999999, 0.9299999999999999)\n"
     ]
    }
   ],
   "source": [
    "grid_size = size(object)\n",
    "tile_size = (100, 100)\n",
    "\n",
    "grr = PtyLab.grid_regular_rand(grid_size, tile_size, (15, 15), 30);\n",
    "@show grr.overlap\n",
    "show_grid(grr, only_points=false);"
   ]
  },
  {
   "cell_type": "markdown",
   "metadata": {},
   "source": [
    "## Probe"
   ]
  },
  {
   "cell_type": "code",
   "execution_count": 4,
   "metadata": {
    "scrolled": false
   },
   "outputs": [],
   "source": [
    "probe = IndexFunArrays.gaussian(Float32, tile_size, scale=0.010) .* cis.(Float32(2π) .* \n",
    "     4 .* gaussian(Float32, tile_size, scale=0.003));\n",
    "\n",
    "complex_show(probe);"
   ]
  },
  {
   "cell_type": "markdown",
   "metadata": {},
   "source": [
    "## Simulate and store as dataset"
   ]
  },
  {
   "cell_type": "code",
   "execution_count": 5,
   "metadata": {},
   "outputs": [],
   "source": [
    "ptychogram = zeros(Float32, (tile_size..., length(grr.tiles)));\n",
    "p = Params()\n",
    "o2d, d2o = Fraunhofer(probe, fftshiftFlag=true);\n",
    "\n",
    "for (i, t) in enumerate(grr.tiles)\n",
    "    ptychogram[:, :, i] = poisson(abs2.(o2d(view(object, t.i₁:t.i₂,  t.j₁:t.j₂) .* probe)), 1000)\n",
    "end\n",
    "\n",
    "\n",
    "lambda = 633f-9\n",
    "z = 50f-3\n",
    "dxd = 10f-6\n",
    "Nd = size(ptychogram, 1)\n",
    "dxo = lambda * z / (Nd * dxd)\n",
    "\n",
    "fid_new = h5open(\"simulated_ptychography.hdf5\", \"w\");\n",
    "fid_new[\"Nd\"] = Nd\n",
    "fid_new[\"No\"] = size(img_abs, 1)\n",
    "fid_new[\"dxd\"] = 10f-6\n",
    "fid_new[\"encoder\"] = PtyLab.encoder(grr, dxo, offset=(50, 50))\n",
    "fid_new[\"wavelength\"] = lambda\n",
    "fid_new[\"entrancePupilDiameter\"] = dxo * 30\n",
    "fid_new[\"zo\"] = z\n",
    "fid_new[\"ptychogram\"] = ptychogram\n",
    "close(fid_new)\n",
    "#@view_image ptychogram;"
   ]
  },
  {
   "cell_type": "markdown",
   "metadata": {},
   "source": [
    "## Load dataset again"
   ]
  },
  {
   "cell_type": "code",
   "execution_count": 86,
   "metadata": {
    "scrolled": false
   },
   "outputs": [
    {
     "name": "stderr",
     "output_type": "stream",
     "text": [
      "┌ Info: Reading HDF5.File: (read-only) simulated_ptychography.hdf5 was successful\n",
      "└ @ PtyLab /home/fxw/PtyLab.jl/src/ExperimentalData.jl:55\n",
      "┌ Warning: Currently No = 4 * Np, just as guess, should be improved\n",
      "└ @ PtyLab /home/fxw/PtyLab.jl/src/utils_calc.jl:91\n"
     ]
    },
    {
     "data": {
      "text/plain": [
       "Params\n",
       "  fftshiftFlag: Bool false\n",
       "  transposePtychogram: Bool true\n",
       "  intensityConstraint: PtyLab.IntensityConstraintStandard <: PtyLab.IntensityConstraint\n",
       "  propagatorType: Fraunhofer (function of type typeof(Fraunhofer))\n",
       "  randPositionOrder: Bool true\n",
       "  comStabilizationSwitch: Bool true\n"
      ]
     },
     "execution_count": 86,
     "metadata": {},
     "output_type": "execute_result"
    }
   ],
   "source": [
    "experimentalData = ExperimentalDataCPM(\"simulated_ptychography.hdf5\");\n",
    "\n",
    "reconstruction = ReconstructionCPM(experimentalData, cuda=false);\n",
    "reconstruction = PtyLab.initializeObjectProbe!(reconstruction);\n",
    "\n",
    "params2 = Params()"
   ]
  },
  {
   "cell_type": "code",
   "execution_count": 7,
   "metadata": {},
   "outputs": [
    {
     "data": {
      "text/plain": [
       "zPIE{Float32}\n",
       "  betaProbe: Float32 0.25f0\n",
       "  betaObject: Float32 0.25f0\n",
       "  numIterations: Int64 50\n",
       "  DoF: Float32 1.0f0\n",
       "  zPIEgradientStepSize: Float32 100.0f0\n",
       "  zPIEfriction: Float32 0.7f0\n",
       "  focusObject: Bool true\n",
       "  zMomentum: Float32 0.0f0\n"
      ]
     },
     "execution_count": 7,
     "metadata": {},
     "output_type": "execute_result"
    }
   ],
   "source": [
    "engine = PtyLab.zPIE()"
   ]
  },
  {
   "cell_type": "markdown",
   "metadata": {},
   "source": [
    "### On CPU"
   ]
  },
  {
   "cell_type": "code",
   "execution_count": 413,
   "metadata": {},
   "outputs": [
    {
     "data": {
      "text/plain": [
       "100"
      ]
     },
     "execution_count": 413,
     "metadata": {},
     "output_type": "execute_result"
    }
   ],
   "source": [
    "engine.zPIEgradientStepSize = 100"
   ]
  },
  {
   "cell_type": "code",
   "execution_count": 411,
   "metadata": {},
   "outputs": [
    {
     "name": "stderr",
     "output_type": "stream",
     "text": [
      "┌ Warning: ProgressMeter by default refresh meters with additional information in IJulia via `IJulia.clear_output`, which clears all outputs in the cell. \n",
      "│  - To prevent this behaviour, do `ProgressMeter.ijulia_behavior(:append)`. \n",
      "│  - To disable this warning message, do `ProgressMeter.ijulia_behavior(:clear)`.\n",
      "└ @ ProgressMeter /home/fxw/.julia/packages/ProgressMeter/Vf8un/src/ProgressMeter.jl:620\n",
      "\r",
      "\u001b[32mProgress: 100%|█████████████████████████████████████████| Time: 0:00:09\u001b[39m\r\n",
      "\u001b[34m  iter:  50\u001b[39m\r\n",
      "\u001b[34m  zo:    -25.145662\u001b[39m\n"
     ]
    },
    {
     "name": "stdout",
     "output_type": "stream",
     "text": [
      "  9.539818 seconds (4.92 M CPU allocations: 808.826 MiB, 0.60% gc time)\n"
     ]
    }
   ],
   "source": [
    "@show reconstruction.zo = 0.05 + reconstruction.DoF / 2\n",
    "\n",
    "reconstruction = ReconstructionCPM(experimentalData, cuda=false);\n",
    "\n",
    "#engines.\n",
    "params2.fftshiftFlag = false\n",
    "engine.betaProbe = 0.75f0\n",
    "engine.betaObject = 0.75f0\n",
    "\n",
    "params2.transposePtychogram = false\n",
    "params2.comStabilizationSwitch = true\n",
    "reconstruction = PtyLab.initializeObjectProbe!(reconstruction);\n",
    "engine.numIterations = 50\n",
    "\n",
    "CUDA.@time p, o = PtyLab.reconstruct(engine, params2, reconstruction);"
   ]
  },
  {
   "cell_type": "code",
   "execution_count": 414,
   "metadata": {
    "scrolled": true
   },
   "outputs": [],
   "source": [
    "complex_show(o[:, :, 1,1,1,1]);"
   ]
  },
  {
   "cell_type": "code",
   "execution_count": 406,
   "metadata": {
    "scrolled": true
   },
   "outputs": [],
   "source": [
    "complex_show(p[:, :, 1,1,1,1]);"
   ]
  }
 ],
 "metadata": {
  "kernelspec": {
   "display_name": "Julia 1.6.4",
   "language": "julia",
   "name": "julia-1.6"
  },
  "language_info": {
   "file_extension": ".jl",
   "mimetype": "application/julia",
   "name": "julia",
   "version": "1.6.4"
  }
 },
 "nbformat": 4,
 "nbformat_minor": 5
}
